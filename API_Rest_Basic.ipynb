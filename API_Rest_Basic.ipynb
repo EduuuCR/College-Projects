{
  "nbformat": 4,
  "nbformat_minor": 0,
  "metadata": {
    "colab": {
      "provenance": [],
      "authorship_tag": "ABX9TyNKwKLlPsr+yo/A+HLelBWg",
      "include_colab_link": true
    },
    "kernelspec": {
      "name": "python3",
      "display_name": "Python 3"
    },
    "language_info": {
      "name": "python"
    }
  },
  "cells": [
    {
      "cell_type": "markdown",
      "metadata": {
        "id": "view-in-github",
        "colab_type": "text"
      },
      "source": [
        "<a href=\"https://colab.research.google.com/github/EduuuCR/College-Projects/blob/main/API_Rest_Basic.ipynb\" target=\"_parent\"><img src=\"https://colab.research.google.com/assets/colab-badge.svg\" alt=\"Open In Colab\"/></a>"
      ]
    },
    {
      "cell_type": "code",
      "execution_count": null,
      "metadata": {
        "id": "KaxstBSIRkNm",
        "colab": {
          "base_uri": "https://localhost:8080/"
        },
        "outputId": "f7dc3258-bdd5-4c41-f282-6461397f8e94"
      },
      "outputs": [
        {
          "metadata": {
            "tags": null
          },
          "name": "stdout",
          "output_type": "stream",
          "text": [
            " * Serving Flask app '__main__'\n",
            " * Debug mode: on\n"
          ]
        },
        {
          "metadata": {
            "tags": null
          },
          "name": "stderr",
          "output_type": "stream",
          "text": [
            "INFO:werkzeug:\u001b[31m\u001b[1mWARNING: This is a development server. Do not use it in a production deployment. Use a production WSGI server instead.\u001b[0m\n",
            " * Running on http://127.0.0.1:5000\n",
            "INFO:werkzeug:\u001b[33mPress CTRL+C to quit\u001b[0m\n",
            "INFO:werkzeug: * Restarting with stat\n"
          ]
        }
      ],
      "source": [
        "from flask import Flask, request, jsonify\n",
        "\n",
        "app = Flask(__name__)\n",
        "\n",
        "# Banco de dados fictício (dicionário)\n",
        "database = {}\n",
        "next_id = 1\n",
        "\n",
        "@app.route('/items', methods=['POST'])\n",
        "def add_item():\n",
        "  global next_id\n",
        "  data = request.get_json()\n",
        "  if not data or 'name' not in data:\n",
        "    return jsonify({'error': 'Missing \"name\" field'}), 400\n",
        "\n",
        "  item = {'id': next_id, 'name': data['name']}\n",
        "  database[next_id] = item\n",
        "  next_id += 1\n",
        "  return jsonify(item), 201\n",
        "\n",
        "@app.route('/items/<int:item_id>', methods=['GET'])\n",
        "def get_item(item_id):\n",
        "  if item_id in database:\n",
        "    return jsonify(database[item_id])\n",
        "  return jsonify({'error': 'Item not found'}), 404\n",
        "\n",
        "@app.route('/items/<int:item_id>', methods=['DELETE'])\n",
        "def delete_item(item_id):\n",
        "  if item_id in database:\n",
        "    del database[item_id]\n",
        "    return jsonify({'message': 'Item deleted'}), 200\n",
        "  return jsonify({'error': 'Item not found'}), 404\n",
        "\n",
        "@app.route('/items', methods=['GET'])\n",
        "def get_all_items():\n",
        "    return jsonify(list(database.values()))\n",
        "\n",
        "if __name__ == '__main__':\n",
        "  app.run(debug=True)"
      ]
    }
  ]
}