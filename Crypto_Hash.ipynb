{
  "nbformat": 4,
  "nbformat_minor": 0,
  "metadata": {
    "colab": {
      "provenance": [],
      "include_colab_link": true
    },
    "kernelspec": {
      "name": "python3",
      "display_name": "Python 3"
    },
    "language_info": {
      "name": "python"
    }
  },
  "cells": [
    {
      "cell_type": "markdown",
      "metadata": {
        "id": "view-in-github",
        "colab_type": "text"
      },
      "source": [
        "<a href=\"https://colab.research.google.com/github/EduuuCR/College-Projects/blob/main/Crypto_Hash.ipynb\" target=\"_parent\"><img src=\"https://colab.research.google.com/assets/colab-badge.svg\" alt=\"Open In Colab\"/></a>"
      ]
    },
    {
      "cell_type": "code",
      "source": [
        "import hashlib\n",
        "def encrypt(message):\n",
        "    # Converter a mensagem para bytes\n",
        "    message_bytes = message.encode('utf-8')\n",
        "\n",
        "    # Aplicar a função hash SHA-256 na mensagem\n",
        "    hash_object = hashlib.sha256(message_bytes)\n",
        "\n",
        "    # Retornar o valor da função hash como uma string hexadecimal\n",
        "    return hash_object.hexdigest()\n",
        "\n",
        "# Exemplo de uso\n",
        "message = \"Olá, mundo!\"\n",
        "encrypted_message = encrypt(message)\n",
        "\n",
        "print(\"Mensagem original:\", message)\n",
        "print(\"Mensagem criptografada:\", encrypted_message)"
      ],
      "metadata": {
        "id": "WxhcqOJmLj8x",
        "outputId": "5595e56d-c937-4ced-f563-db644bea3113",
        "colab": {
          "base_uri": "https://localhost:8080/"
        }
      },
      "execution_count": null,
      "outputs": [
        {
          "output_type": "stream",
          "name": "stdout",
          "text": [
            "Mensagem original: Olá, mundo!\n",
            "Mensagem criptografada: 9583b013baa520d3a893c4270d0c67732d7ef1768eb0a13533b4e7b134d4b131\n"
          ]
        }
      ]
    }
  ]
}