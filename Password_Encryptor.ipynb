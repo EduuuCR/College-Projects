{
  "nbformat": 4,
  "nbformat_minor": 0,
  "metadata": {
    "colab": {
      "provenance": [],
      "authorship_tag": "ABX9TyMaiPtD/dh+clVuVhQIa18q",
      "include_colab_link": true
    },
    "kernelspec": {
      "name": "python3",
      "display_name": "Python 3"
    },
    "language_info": {
      "name": "python"
    }
  },
  "cells": [
    {
      "cell_type": "markdown",
      "metadata": {
        "id": "view-in-github",
        "colab_type": "text"
      },
      "source": [
        "<a href=\"https://colab.research.google.com/github/EduuuCR/College-Projects/blob/main/Password_Encryptor.ipynb\" target=\"_parent\"><img src=\"https://colab.research.google.com/assets/colab-badge.svg\" alt=\"Open In Colab\"/></a>"
      ]
    },
    {
      "cell_type": "code",
      "execution_count": null,
      "metadata": {
        "colab": {
          "base_uri": "https://localhost:8080/"
        },
        "id": "aFbimAHVa15p",
        "outputId": "d428569b-e8e5-43a2-cf43-d80cee99ff1f"
      },
      "outputs": [
        {
          "output_type": "stream",
          "name": "stdout",
          "text": [
            "Enter your password@mint : ··········\n",
            "Encrypted password: [[404, 269, 203], [209, 139, 70]]\n",
            "Decrypted password [[66, 67, 68], [69, 70, 0]]\n",
            "12345\n"
          ]
        }
      ],
      "source": [
        "from getpass import getpass\n",
        "www = getpass(\"Enter your password@mint : \")\n",
        "\n",
        "securityCode = {}\n",
        "matrixList = []\n",
        "encodedMatrix = []\n",
        "pattern = [\n",
        "    [1,2,3],\n",
        "    [1,1,2],\n",
        "    [0,1,2]\n",
        "]\n",
        "pattern2 = [\n",
        "    [0,1,-1],\n",
        "    [2,-2,-1],\n",
        "    [-1,1,1]\n",
        "]\n",
        "#This method with Initialize the securityCode like 'A':1, 'B':2... 'Z':26\n",
        "def initializecode():\n",
        "    code = 27\n",
        "    for i in range(65,91):\n",
        "        securityCode[chr(i)] = code\n",
        "        code += 1\n",
        "    node = 1\n",
        "    for j in range(97,123):\n",
        "        securityCode[chr(j)] = node\n",
        "        node +=1\n",
        "    kode=50\n",
        "    for k in range(33,64):\n",
        "        securityCode[chr(k)] = kode\n",
        "        kode +=1\n",
        "    securityCode[' '] = 200\n",
        "#This method will find the character against a values\n",
        "def findchar(value):\n",
        "    for key in securityCode:\n",
        "        if securityCode[key] is value:\n",
        "            return key\n",
        "#This method will find the value against a character\n",
        "def findvalue(keyvalue):\n",
        "    for key in securityCode:\n",
        "        if key is keyvalue:\n",
        "            return securityCode[key]\n",
        "#Matrix Multiplication\n",
        "def matrixmultiplication(mat1,mat2):\n",
        "    mat = []\n",
        "    for i in range(len(mat1)):\n",
        "        total = 0\n",
        "        for j in range(len(mat2)):\n",
        "            total += mat1[i][j]*mat2[j]\n",
        "        mat.append(total)\n",
        "    return mat\n",
        "\n",
        "#Encryption\n",
        "def encryption(word):\n",
        "    counter = 3\n",
        "    start = 0\n",
        "    end = 3\n",
        "    matrix = []\n",
        "    for c in word:\n",
        "        matrix.append(findvalue(c))\n",
        "    #print(matrix)\n",
        "    while start < len(matrix):\n",
        "        temp = matrix[start:end]\n",
        "        if len(temp) is counter:\n",
        "            matrixList.append(temp)\n",
        "        else:\n",
        "            for i in range(0,counter-len(temp)):\n",
        "                temp.append(0)\n",
        "            matrixList.append(temp)\n",
        "        start += 3\n",
        "        end += 3\n",
        "\n",
        "    for mat in matrixList:\n",
        "        encodedMatrix.append(matrixmultiplication(pattern,mat))\n",
        "\n",
        "    matv=encodedMatrix\n",
        "    print('Encrypted password:', encodedMatrix)\n",
        "def decryption():\n",
        "\n",
        "    for mat in matrixList:\n",
        "        encodedMatrix.append(matrixmultiplication(pattern2,matv))\n",
        "\n",
        "    print('Decrypted password', matrixList)\n",
        "\n",
        "#MAIN FUNCTION\n",
        "initializecode()\n",
        "matv = {}\n",
        "encryption(www)\n",
        "decryption()\n",
        "print(www)\n",
        "\n"
      ]
    }
  ]
}