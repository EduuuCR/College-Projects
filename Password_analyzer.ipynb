{
  "nbformat": 4,
  "nbformat_minor": 0,
  "metadata": {
    "colab": {
      "provenance": [],
      "authorship_tag": "ABX9TyML1QFj1LhFa0vAu71J+kD0",
      "include_colab_link": true
    },
    "kernelspec": {
      "name": "python3",
      "display_name": "Python 3"
    },
    "language_info": {
      "name": "python"
    }
  },
  "cells": [
    {
      "cell_type": "markdown",
      "metadata": {
        "id": "view-in-github",
        "colab_type": "text"
      },
      "source": [
        "<a href=\"https://colab.research.google.com/github/EduuuCR/College-Projects/blob/main/Password_analyzer.ipynb\" target=\"_parent\"><img src=\"https://colab.research.google.com/assets/colab-badge.svg\" alt=\"Open In Colab\"/></a>"
      ]
    },
    {
      "cell_type": "code",
      "execution_count": 2,
      "metadata": {
        "colab": {
          "base_uri": "https://localhost:8080/"
        },
        "id": "75Ka7fJfUy2y",
        "outputId": "3916b1b0-345f-4901-c659-aaa5e43f4eef"
      },
      "outputs": [
        {
          "output_type": "stream",
          "name": "stdout",
          "text": [
            "length: Strong: Good password length.\n",
            "lowercase: Weak: Missing lowercase letters.\n",
            "digit: Weak: Missing digits.\n",
            "overall: Medium\n"
          ]
        }
      ],
      "source": [
        "import re\n",
        "\n",
        "def password_analyzer(password):\n",
        "    \"\"\"Analyzes a password's strength based on various criteria.\"\"\"\n",
        "\n",
        "    analysis = {}\n",
        "\n",
        "    # Length check\n",
        "    if len(password) < 8:\n",
        "        analysis[\"length\"] = \"Weak: Password should be at least 8 characters long.\"\n",
        "    elif len(password) < 12:\n",
        "        analysis[\"length\"] = \"Medium: Password length is okay, but could be stronger.\"\n",
        "    else:\n",
        "        analysis[\"length\"] = \"Strong: Good password length.\"\n",
        "\n",
        "    # Character type checks\n",
        "    has_lowercase = re.search(r\"[a-z]\", password) is not None\n",
        "    has_uppercase = re.search(r\"[A-Z]\", password) is not None\n",
        "    has_digit = re.search(r\"\\d\", password) is not None\n",
        "    has_symbol = re.search(r\"[!@#$%^&*()_+=-`~\\[\\]{};':\\\"\\\\|,.<>\\/?]\", password) is not None\n",
        "\n",
        "    if not has_lowercase:\n",
        "        analysis[\"lowercase\"] = \"Weak: Missing lowercase letters.\"\n",
        "    if not has_uppercase:\n",
        "        analysis[\"uppercase\"] = \"Weak: Missing uppercase letters.\"\n",
        "    if not has_digit:\n",
        "        analysis[\"digit\"] = \"Weak: Missing digits.\"\n",
        "    if not has_symbol:\n",
        "        analysis[\"symbol\"] = \"Weak: Missing symbols.\"\n",
        "\n",
        "    #Common password check\n",
        "    common_passwords = [\"password\", \"123456\", \"qwerty\", \"admin\", \"letmein\"] # Add more common passwords here\n",
        "    if password.lower() in common_passwords:\n",
        "        analysis[\"common\"] = \"Very Weak: This is a very common password. Please choose a different one.\"\n",
        "\n",
        "    # Overall strength\n",
        "    if \"Very Weak\" in analysis.values():\n",
        "        analysis[\"overall\"] = \"Very Weak\"\n",
        "    elif \"Weak\" in analysis.values():\n",
        "      analysis[\"overall\"] = \"Weak\"\n",
        "    elif all(key in analysis for key in [\"length\", \"lowercase\", \"uppercase\", \"digit\", \"symbol\"]) and analysis[\"length\"] == \"Strong\":\n",
        "        analysis[\"overall\"] = \"Strong\"\n",
        "    else:\n",
        "        analysis[\"overall\"] = \"Medium\"\n",
        "\n",
        "\n",
        "    return analysis\n",
        "\n",
        "# Example usage\n",
        "password = \"KURUMITOKISAKI\"  # Replace with the password you want to analyze\n",
        "result = password_analyzer(password)\n",
        "for key, value in result.items():\n",
        "    print(f\"{key}: {value}\")\n"
      ]
    }
  ]
}